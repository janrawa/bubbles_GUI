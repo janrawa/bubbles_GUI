{
 "cells": [
  {
   "cell_type": "code",
   "execution_count": 1,
   "metadata": {},
   "outputs": [],
   "source": [
    "import scipy as sc\n",
    "import numpy as np\n",
    "import matplotlib.pyplot as plt\n",
    "from matplotlib.pyplot import plot"
   ]
  },
  {
   "cell_type": "code",
   "execution_count": 16,
   "metadata": {},
   "outputs": [],
   "source": [
    "from typing import Any\n",
    "import usbtmc\n",
    "import numpy as np\n",
    "import time\n",
    "\n",
    "class Oscilloscope(usbtmc.Instrument):\n",
    "    def __init__(self, vendor_id, product_id, timeout=2):\n",
    "        \"\"\"\n",
    "        Initialize the oscilloscope instrument.\n",
    "\n",
    "        :param vendor_id: The vendor ID of the oscilloscope.\n",
    "        :param product_id: The product ID of the oscilloscope.\n",
    "        :param timeout: Communication timeout in seconds.\n",
    "        \"\"\"\n",
    "        super().__init__(vendor_id, product_id)\n",
    "        self.timeout = timeout\n",
    "        self.write('*CLS')  # Clear the status\n",
    "        self.write(':system:header off')\n",
    "        self.write(':waveform:streaming ON')  # Enable waveform streaming\n",
    "        self.write(':waveform:byteorder lsbfirst')\n",
    "        self.write(':waveform:format word')  # Set waveform format to 16-bit word\n",
    "        # self.write(':wav:uns 1')  # Unsigned data format\n",
    "\n",
    "    def __enter__(self):\n",
    "        return self\n",
    "    \n",
    "    def __exit__(self, exc_type, exc_value, traceback):\n",
    "        self.close()\n",
    "        super().__exit__(exc_type, exc_value, traceback)\n",
    "    \n",
    "    def __getattribute__(self, name: str) -> Any:\n",
    "        # specific procedures to do before returning variable\n",
    "        match name:\n",
    "            case 'instrument_name':\n",
    "                self.instrument_name=self.ask('*IDN?')\n",
    "            case 'analog_sample_rate':\n",
    "                self.analog_sample_rate=float(self.ask(':acquire:srate:analog?'))\n",
    "            case 'digital_sample_rate':\n",
    "                self.digital_sample_rate=float(self.ask(':acquire:srate:digital?'))\n",
    "        \n",
    "        return super().__getattribute__(name)\n",
    "    \n",
    "\n",
    "    def fetch_x_data(self):\n",
    "        \"\"\"\n",
    "        Fetch X-axis data (time data) from the oscilloscope.\n",
    "\n",
    "        :return: Numpy array of X-axis data (time points).\n",
    "        \"\"\"\n",
    "        x_increment = float(self.ask(\":WAV:XINC?\"))\n",
    "        x_origin = float(self.ask(\":WAV:XOR?\"))\n",
    "        x_reference = float(self.ask(\":WAV:XREF?\"))\n",
    "\n",
    "        # Get the number of points from the oscilloscope\n",
    "        num_points = int(self.ask(\":WAV:POIN?\"))\n",
    "\n",
    "        # Generate the time (X-axis) data array\n",
    "        x_data = np.arange(num_points) * x_increment + x_origin - x_reference * x_increment\n",
    "        return x_data\n",
    "\n",
    "    def fetch_y_data(self, channel=1):\n",
    "        \"\"\"\n",
    "        Fetch Y-axis data (voltage data) from the oscilloscope for a specified channel.\n",
    "\n",
    "        :param channel: The channel number to fetch data from (default is 1).\n",
    "        :return: Numpy array of Y-axis data (voltage points).\n",
    "        \"\"\"\n",
    "        # Set the channel to read from\n",
    "        self.write(f\":WAV:SOUR CHAN{channel}\")\n",
    "\n",
    "        # Get Y data scaling parameters\n",
    "        y_increment = float(self.ask(\":WAV:YINC?\"))\n",
    "        y_origin = float(self.ask(\":WAV:YOR?\"))\n",
    "        y_reference = float(self.ask(\":WAV:YREF?\"))\n",
    "\n",
    "        # Get the number of points from the oscilloscope\n",
    "        num_points = int(self.ask(\":WAV:POIN?\"))\n",
    "\n",
    "        # Request the waveform data\n",
    "        self.write(\":WAV:DATA?\")\n",
    "        raw_data = self.read_raw()  # Read raw data\n",
    "\n",
    "        # Process the raw data\n",
    "        header_size = 2  # Standard header size for 16-bit word data\n",
    "        data_size = len(raw_data) - header_size - 1\n",
    "        if data_size != num_points * 2:  # 16-bit data means 2 bytes per point\n",
    "            raise ValueError(f\"Mismatch in data length: expected {num_points * 2}, got {data_size}\")\n",
    "        \n",
    "        # Convert raw data to a numpy array of 16-bit unsigned integers\n",
    "        y_data = np.frombuffer(raw_data[header_size:-1], dtype=np.int16)\n",
    "        # y_data = np.frombuffer(raw_data, dtype=np.int16, header_size=2)\n",
    "\n",
    "        # Scale the data to get the correct voltage values\n",
    "        y_data = (y_data - y_reference) * y_increment + y_origin\n",
    "        return y_data\n",
    "\n",
    "    def wait_for_trigger(self, timeout=5):\n",
    "        \"\"\"\n",
    "        Wait for the oscilloscope to trigger before fetching data.\n",
    "\n",
    "        :param timeout: Maximum time to wait for a trigger, in seconds.\n",
    "        :return: True if triggered, False if timeout occurs.\n",
    "        \"\"\"\n",
    "        self.write(':TRIG:MODE EDGE')  # Set trigger mode to edge\n",
    "        self.write(':TRIG:SOUR CHAN1')  # Set trigger source to channel 1 (customize as needed)\n",
    "        self.write(':TRIG:LEV 0.5')  # Set trigger level (customize as needed)\n",
    "\n",
    "        elapsed_time = 0\n",
    "        poll_interval = 0.1  # Poll every 100 ms\n",
    "        while elapsed_time < timeout:\n",
    "            # Check trigger status\n",
    "            status = int(self.ask(':TER?'))\n",
    "            if status == 1:  # Status 1 indicates the oscilloscope has triggered\n",
    "                return True\n",
    "            time.sleep(poll_interval)\n",
    "            elapsed_time += poll_interval\n",
    "        \n",
    "        # Timeout occurred\n",
    "        return False\n",
    "\n",
    "# Example usage:\n",
    "# osc = Oscilloscope(vendor_id=0x1234, product_id=0x5678)\n",
    "# x_data = osc.fetch_x_data()\n",
    "# y_data = osc.fetch_y_data(channel=1)\n",
    "# osc.close()\n"
   ]
  },
  {
   "cell_type": "code",
   "execution_count": 17,
   "metadata": {},
   "outputs": [],
   "source": [
    "scope.close()\n",
    "scope = Oscilloscope(vendor_id=0x0957, product_id=0x900d)"
   ]
  },
  {
   "cell_type": "code",
   "execution_count": 11,
   "metadata": {},
   "outputs": [
    {
     "data": {
      "text/plain": [
       "array([-0.00210282, -0.00210281, -0.0021028 , ...,  0.00789718,\n",
       "        0.00789719,  0.0078972 ])"
      ]
     },
     "execution_count": 11,
     "metadata": {},
     "output_type": "execute_result"
    }
   ],
   "source": [
    "x=scope.fetch_x_data()\n",
    "x"
   ]
  },
  {
   "cell_type": "code",
   "execution_count": 26,
   "metadata": {},
   "outputs": [
    {
     "name": "stdout",
     "output_type": "stream",
     "text": [
      "100E+6 2E+9\n"
     ]
    }
   ],
   "source": [
    "import decimal\n",
    "print(\n",
    "    decimal.Decimal(scope.analog_sample_rate).normalize().to_eng_string(),\n",
    "    decimal.Decimal(scope.digital_sample_rate).normalize().to_eng_string()\n",
    ")"
   ]
  },
  {
   "cell_type": "code",
   "execution_count": 6,
   "metadata": {},
   "outputs": [
    {
     "ename": "KeyboardInterrupt",
     "evalue": "",
     "output_type": "error",
     "traceback": [
      "\u001b[0;31m---------------------------------------------------------------------------\u001b[0m",
      "\u001b[0;31mKeyboardInterrupt\u001b[0m                         Traceback (most recent call last)",
      "Cell \u001b[0;32mIn[6], line 6\u001b[0m\n\u001b[1;32m      4\u001b[0m clear_output(wait\u001b[38;5;241m=\u001b[39m\u001b[38;5;28;01mTrue\u001b[39;00m)\n\u001b[1;32m      5\u001b[0m scope\u001b[38;5;241m.\u001b[39mwait_for_trigger()\n\u001b[0;32m----> 6\u001b[0m y\u001b[38;5;241m=\u001b[39m\u001b[43mscope\u001b[49m\u001b[38;5;241;43m.\u001b[39;49m\u001b[43mfetch_y_data\u001b[49m\u001b[43m(\u001b[49m\u001b[43m)\u001b[49m\n\u001b[1;32m      9\u001b[0m plt\u001b[38;5;241m.\u001b[39mxticks(rotation\u001b[38;5;241m=\u001b[39m\u001b[38;5;241m45\u001b[39m)\n\u001b[1;32m     11\u001b[0m mid \u001b[38;5;241m=\u001b[39m \u001b[38;5;28mlen\u001b[39m(x)\u001b[38;5;241m/\u001b[39m\u001b[38;5;241m/\u001b[39m\u001b[38;5;241m2\u001b[39m\n",
      "Cell \u001b[0;32mIn[2], line 71\u001b[0m, in \u001b[0;36mOscilloscope.fetch_y_data\u001b[0;34m(self, channel)\u001b[0m\n\u001b[1;32m     69\u001b[0m \u001b[38;5;66;03m# Request the waveform data\u001b[39;00m\n\u001b[1;32m     70\u001b[0m \u001b[38;5;28mself\u001b[39m\u001b[38;5;241m.\u001b[39mwrite(\u001b[38;5;124m\"\u001b[39m\u001b[38;5;124m:WAV:DATA?\u001b[39m\u001b[38;5;124m\"\u001b[39m)\n\u001b[0;32m---> 71\u001b[0m raw_data \u001b[38;5;241m=\u001b[39m \u001b[38;5;28;43mself\u001b[39;49m\u001b[38;5;241;43m.\u001b[39;49m\u001b[43mread_raw\u001b[49m\u001b[43m(\u001b[49m\u001b[43m)\u001b[49m  \u001b[38;5;66;03m# Read raw data\u001b[39;00m\n\u001b[1;32m     73\u001b[0m \u001b[38;5;66;03m# Process the raw data\u001b[39;00m\n\u001b[1;32m     74\u001b[0m header_size \u001b[38;5;241m=\u001b[39m \u001b[38;5;241m2\u001b[39m  \u001b[38;5;66;03m# Standard header size for 16-bit word data\u001b[39;00m\n",
      "File \u001b[0;32m~/.pyenv/versions/3.11.9/lib/python3.11/site-packages/usbtmc/usbtmc.py:532\u001b[0m, in \u001b[0;36mInstrument.read_raw\u001b[0;34m(self, num)\u001b[0m\n\u001b[1;32m    529\u001b[0m     req \u001b[38;5;241m=\u001b[39m \u001b[38;5;28mself\u001b[39m\u001b[38;5;241m.\u001b[39mpack_dev_dep_msg_in_header(read_len, term_char)\n\u001b[1;32m    530\u001b[0m     \u001b[38;5;28mself\u001b[39m\u001b[38;5;241m.\u001b[39mbulk_out_ep\u001b[38;5;241m.\u001b[39mwrite(req, timeout\u001b[38;5;241m=\u001b[39m\u001b[38;5;28mint\u001b[39m(\u001b[38;5;28mself\u001b[39m\u001b[38;5;241m.\u001b[39mtimeout\u001b[38;5;241m*\u001b[39m\u001b[38;5;241m1000\u001b[39m))\n\u001b[0;32m--> 532\u001b[0m resp \u001b[38;5;241m=\u001b[39m \u001b[38;5;28;43mself\u001b[39;49m\u001b[38;5;241;43m.\u001b[39;49m\u001b[43mbulk_in_ep\u001b[49m\u001b[38;5;241;43m.\u001b[39;49m\u001b[43mread\u001b[49m\u001b[43m(\u001b[49m\u001b[43mread_len\u001b[49m\u001b[38;5;241;43m+\u001b[39;49m\u001b[43mUSBTMC_HEADER_SIZE\u001b[49m\u001b[38;5;241;43m+\u001b[39;49m\u001b[38;5;241;43m3\u001b[39;49m\u001b[43m,\u001b[49m\u001b[43m \u001b[49m\u001b[43mtimeout\u001b[49m\u001b[38;5;241;43m=\u001b[39;49m\u001b[38;5;28;43mint\u001b[39;49m\u001b[43m(\u001b[49m\u001b[38;5;28;43mself\u001b[39;49m\u001b[38;5;241;43m.\u001b[39;49m\u001b[43mtimeout\u001b[49m\u001b[38;5;241;43m*\u001b[39;49m\u001b[38;5;241;43m1000\u001b[39;49m\u001b[43m)\u001b[49m\u001b[43m)\u001b[49m\n\u001b[1;32m    534\u001b[0m \u001b[38;5;28;01mif\u001b[39;00m sys\u001b[38;5;241m.\u001b[39mversion_info \u001b[38;5;241m>\u001b[39m\u001b[38;5;241m=\u001b[39m (\u001b[38;5;241m3\u001b[39m, \u001b[38;5;241m2\u001b[39m):\n\u001b[1;32m    535\u001b[0m     resp \u001b[38;5;241m=\u001b[39m resp\u001b[38;5;241m.\u001b[39mtobytes()\n",
      "File \u001b[0;32m~/.pyenv/versions/3.11.9/lib/python3.11/site-packages/usb/core.py:423\u001b[0m, in \u001b[0;36mEndpoint.read\u001b[0;34m(self, size_or_buffer, timeout)\u001b[0m\n\u001b[1;32m    410\u001b[0m \u001b[38;5;28;01mdef\u001b[39;00m \u001b[38;5;21mread\u001b[39m(\u001b[38;5;28mself\u001b[39m, size_or_buffer, timeout \u001b[38;5;241m=\u001b[39m \u001b[38;5;28;01mNone\u001b[39;00m):\n\u001b[1;32m    411\u001b[0m \u001b[38;5;250m    \u001b[39m\u001b[38;5;124mr\u001b[39m\u001b[38;5;124;03m\"\"\"Read data from the endpoint.\u001b[39;00m\n\u001b[1;32m    412\u001b[0m \n\u001b[1;32m    413\u001b[0m \u001b[38;5;124;03m    The parameter size_or_buffer is either the number of bytes to\u001b[39;00m\n\u001b[0;32m   (...)\u001b[0m\n\u001b[1;32m    421\u001b[0m \u001b[38;5;124;03m    For details, see the Device.read() method.\u001b[39;00m\n\u001b[1;32m    422\u001b[0m \u001b[38;5;124;03m    \"\"\"\u001b[39;00m\n\u001b[0;32m--> 423\u001b[0m     \u001b[38;5;28;01mreturn\u001b[39;00m \u001b[38;5;28;43mself\u001b[39;49m\u001b[38;5;241;43m.\u001b[39;49m\u001b[43mdevice\u001b[49m\u001b[38;5;241;43m.\u001b[39;49m\u001b[43mread\u001b[49m\u001b[43m(\u001b[49m\u001b[38;5;28;43mself\u001b[39;49m\u001b[43m,\u001b[49m\u001b[43m \u001b[49m\u001b[43msize_or_buffer\u001b[49m\u001b[43m,\u001b[49m\u001b[43m \u001b[49m\u001b[43mtimeout\u001b[49m\u001b[43m)\u001b[49m\n",
      "File \u001b[0;32m~/.pyenv/versions/3.11.9/lib/python3.11/site-packages/usb/core.py:1029\u001b[0m, in \u001b[0;36mDevice.read\u001b[0;34m(self, endpoint, size_or_buffer, timeout)\u001b[0m\n\u001b[1;32m   1026\u001b[0m \u001b[38;5;28;01melse\u001b[39;00m: \u001b[38;5;66;03m# here we consider it is a integer\u001b[39;00m\n\u001b[1;32m   1027\u001b[0m     buff \u001b[38;5;241m=\u001b[39m util\u001b[38;5;241m.\u001b[39mcreate_buffer(size_or_buffer)\n\u001b[0;32m-> 1029\u001b[0m ret \u001b[38;5;241m=\u001b[39m \u001b[43mfn\u001b[49m\u001b[43m(\u001b[49m\n\u001b[1;32m   1030\u001b[0m \u001b[43m        \u001b[49m\u001b[38;5;28;43mself\u001b[39;49m\u001b[38;5;241;43m.\u001b[39;49m\u001b[43m_ctx\u001b[49m\u001b[38;5;241;43m.\u001b[39;49m\u001b[43mhandle\u001b[49m\u001b[43m,\u001b[49m\n\u001b[1;32m   1031\u001b[0m \u001b[43m        \u001b[49m\u001b[43mep\u001b[49m\u001b[38;5;241;43m.\u001b[39;49m\u001b[43mbEndpointAddress\u001b[49m\u001b[43m,\u001b[49m\n\u001b[1;32m   1032\u001b[0m \u001b[43m        \u001b[49m\u001b[43mintf\u001b[49m\u001b[38;5;241;43m.\u001b[39;49m\u001b[43mbInterfaceNumber\u001b[49m\u001b[43m,\u001b[49m\n\u001b[1;32m   1033\u001b[0m \u001b[43m        \u001b[49m\u001b[43mbuff\u001b[49m\u001b[43m,\u001b[49m\n\u001b[1;32m   1034\u001b[0m \u001b[43m        \u001b[49m\u001b[38;5;28;43mself\u001b[39;49m\u001b[38;5;241;43m.\u001b[39;49m\u001b[43m__get_timeout\u001b[49m\u001b[43m(\u001b[49m\u001b[43mtimeout\u001b[49m\u001b[43m)\u001b[49m\u001b[43m)\u001b[49m\n\u001b[1;32m   1036\u001b[0m \u001b[38;5;28;01mif\u001b[39;00m \u001b[38;5;28misinstance\u001b[39m(size_or_buffer, array\u001b[38;5;241m.\u001b[39marray):\n\u001b[1;32m   1037\u001b[0m     \u001b[38;5;28;01mreturn\u001b[39;00m ret\n",
      "File \u001b[0;32m~/.pyenv/versions/3.11.9/lib/python3.11/site-packages/usb/backend/libusb1.py:846\u001b[0m, in \u001b[0;36m_LibUSB.bulk_read\u001b[0;34m(self, dev_handle, ep, intf, buff, timeout)\u001b[0m\n\u001b[1;32m    844\u001b[0m \u001b[38;5;129m@methodtrace\u001b[39m(_logger)\n\u001b[1;32m    845\u001b[0m \u001b[38;5;28;01mdef\u001b[39;00m \u001b[38;5;21mbulk_read\u001b[39m(\u001b[38;5;28mself\u001b[39m, dev_handle, ep, intf, buff, timeout):\n\u001b[0;32m--> 846\u001b[0m     \u001b[38;5;28;01mreturn\u001b[39;00m \u001b[38;5;28;43mself\u001b[39;49m\u001b[38;5;241;43m.\u001b[39;49m\u001b[43m__read\u001b[49m\u001b[43m(\u001b[49m\u001b[38;5;28;43mself\u001b[39;49m\u001b[38;5;241;43m.\u001b[39;49m\u001b[43mlib\u001b[49m\u001b[38;5;241;43m.\u001b[39;49m\u001b[43mlibusb_bulk_transfer\u001b[49m\u001b[43m,\u001b[49m\n\u001b[1;32m    847\u001b[0m \u001b[43m                       \u001b[49m\u001b[43mdev_handle\u001b[49m\u001b[43m,\u001b[49m\n\u001b[1;32m    848\u001b[0m \u001b[43m                       \u001b[49m\u001b[43mep\u001b[49m\u001b[43m,\u001b[49m\n\u001b[1;32m    849\u001b[0m \u001b[43m                       \u001b[49m\u001b[43mintf\u001b[49m\u001b[43m,\u001b[49m\n\u001b[1;32m    850\u001b[0m \u001b[43m                       \u001b[49m\u001b[43mbuff\u001b[49m\u001b[43m,\u001b[49m\n\u001b[1;32m    851\u001b[0m \u001b[43m                       \u001b[49m\u001b[43mtimeout\u001b[49m\u001b[43m)\u001b[49m\n",
      "File \u001b[0;32m~/.pyenv/versions/3.11.9/lib/python3.11/site-packages/usb/backend/libusb1.py:946\u001b[0m, in \u001b[0;36m_LibUSB.__read\u001b[0;34m(self, fn, dev_handle, ep, intf, buff, timeout)\u001b[0m\n\u001b[1;32m    944\u001b[0m length \u001b[38;5;241m*\u001b[39m\u001b[38;5;241m=\u001b[39m buff\u001b[38;5;241m.\u001b[39mitemsize\n\u001b[1;32m    945\u001b[0m transferred \u001b[38;5;241m=\u001b[39m c_int()\n\u001b[0;32m--> 946\u001b[0m retval \u001b[38;5;241m=\u001b[39m \u001b[43mfn\u001b[49m\u001b[43m(\u001b[49m\u001b[43mdev_handle\u001b[49m\u001b[38;5;241;43m.\u001b[39;49m\u001b[43mhandle\u001b[49m\u001b[43m,\u001b[49m\n\u001b[1;32m    947\u001b[0m \u001b[43m          \u001b[49m\u001b[43mep\u001b[49m\u001b[43m,\u001b[49m\n\u001b[1;32m    948\u001b[0m \u001b[43m          \u001b[49m\u001b[43mcast\u001b[49m\u001b[43m(\u001b[49m\u001b[43maddress\u001b[49m\u001b[43m,\u001b[49m\u001b[43m \u001b[49m\u001b[43mPOINTER\u001b[49m\u001b[43m(\u001b[49m\u001b[43mc_ubyte\u001b[49m\u001b[43m)\u001b[49m\u001b[43m)\u001b[49m\u001b[43m,\u001b[49m\n\u001b[1;32m    949\u001b[0m \u001b[43m          \u001b[49m\u001b[43mlength\u001b[49m\u001b[43m,\u001b[49m\n\u001b[1;32m    950\u001b[0m \u001b[43m          \u001b[49m\u001b[43mbyref\u001b[49m\u001b[43m(\u001b[49m\u001b[43mtransferred\u001b[49m\u001b[43m)\u001b[49m\u001b[43m,\u001b[49m\n\u001b[1;32m    951\u001b[0m \u001b[43m          \u001b[49m\u001b[43mtimeout\u001b[49m\u001b[43m)\u001b[49m\n\u001b[1;32m    952\u001b[0m \u001b[38;5;66;03m# do not assume LIBUSB_ERROR_TIMEOUT means no I/O.\u001b[39;00m\n\u001b[1;32m    953\u001b[0m \u001b[38;5;28;01mif\u001b[39;00m \u001b[38;5;129;01mnot\u001b[39;00m (transferred\u001b[38;5;241m.\u001b[39mvalue \u001b[38;5;129;01mand\u001b[39;00m retval \u001b[38;5;241m==\u001b[39m LIBUSB_ERROR_TIMEOUT):\n",
      "\u001b[0;31mKeyboardInterrupt\u001b[0m: "
     ]
    }
   ],
   "source": [
    "from IPython.display import clear_output\n",
    "\n",
    "while True:\n",
    "    clear_output(wait=True)\n",
    "    scope.wait_for_trigger()\n",
    "    y=scope.fetch_y_data()\n",
    "    \n",
    "\n",
    "    plt.xticks(rotation=45)\n",
    "\n",
    "    mid = len(x)//2\n",
    "    plot(x[mid:mid+150], y[mid:mid+150], lw=1)\n",
    "    plt.show()\n"
   ]
  },
  {
   "cell_type": "code",
   "execution_count": null,
   "metadata": {},
   "outputs": [
    {
     "data": {
      "text/plain": [
       "[<matplotlib.lines.Line2D at 0x7f67bbff34d0>]"
      ]
     },
     "execution_count": 292,
     "metadata": {},
     "output_type": "execute_result"
    },
    {
     "data": {
      "image/png": "[encoded data removed]",
      "text/plain": [
       "<Figure size 640x480 with 1 Axes>"
      ]
     },
     "metadata": {},
     "output_type": "display_data"
    }
   ],
   "source": [
    "plt.xticks(rotation=45)\n",
    "plot(x, y)"
   ]
  },
  {
   "cell_type": "code",
   "execution_count": null,
   "metadata": {},
   "outputs": [],
   "source": [
    "class OscilloscopeProcessManager:\n",
    "    "
   ]
  },
  {
   "cell_type": "code",
   "execution_count": null,
   "metadata": {},
   "outputs": [],
   "source": []
  }
 ],
 "metadata": {
  "kernelspec": {
   "display_name": "Python 3",
   "language": "python",
   "name": "python3"
  },
  "language_info": {
   "codemirror_mode": {
    "name": "ipython",
    "version": 3
   },
   "file_extension": ".py",
   "mimetype": "text/x-python",
   "name": "python",
   "nbconvert_exporter": "python",
   "pygments_lexer": "ipython3",
   "version": "3.11.9"
  }
 },
 "nbformat": 4,
 "nbformat_minor": 2
}
