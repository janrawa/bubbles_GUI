{
 "cells": [
  {
   "cell_type": "code",
   "execution_count": 6,
   "metadata": {},
   "outputs": [],
   "source": [
    "import scipy as sc\n",
    "import numpy as np\n",
    "import matplotlib.pyplot as plt\n",
    "from matplotlib.pyplot import plot"
   ]
  },
  {
   "cell_type": "code",
   "execution_count": 7,
   "metadata": {},
   "outputs": [],
   "source": [
    "from typing import Any\n",
    "import usbtmc\n",
    "import numpy as np\n",
    "import time\n",
    "\n",
    "class Oscilloscope(usbtmc.Instrument):\n",
    "    def __init__(self, vendor_id=0x0957, product_id=0x900d, timeout=2):\n",
    "        \"\"\"\n",
    "        Initialize the oscilloscope instrument.\n",
    "\n",
    "        :param vendor_id: The vendor ID of the oscilloscope.\n",
    "        :param product_id: The product ID of the oscilloscope.\n",
    "        :param timeout: Communication timeout in seconds.\n",
    "        \"\"\"\n",
    "        super().__init__(vendor_id, product_id)\n",
    "        self.timeout = timeout\n",
    "        self.write('*CLS')  # Clear the status\n",
    "        self.write(':system:header off')\n",
    "        self.write(':waveform:streaming ON')  # Enable waveform streaming\n",
    "        self.write(':waveform:byteorder lsbfirst')\n",
    "        self.write(':waveform:format word')  # Set waveform format to 16-bit word\n",
    "\n",
    "    def __getattr__(self, name: str) -> Any:\n",
    "        # specific procedures to do before returning variable\n",
    "        match name:\n",
    "            case 'instrument_name':\n",
    "                return self.ask('*IDN?')\n",
    "            case 'analog_sample_rate':\n",
    "                return float(self.ask(':acquire:srate:analog?'))\n",
    "            case 'digital_sample_rate':\n",
    "                return float(self.ask(':acquire:srate:digital?'))\n",
    "            case 'triggered':\n",
    "                return bool(int(self.ask(':TER?')))\n",
    "\n",
    "    def fetch_x_data(self):\n",
    "        \"\"\"\n",
    "        Fetch X-axis data (time data) from the oscilloscope.\n",
    "\n",
    "        :return: Numpy array of X-axis data (time points).\n",
    "        \"\"\"\n",
    "        x_increment = float(self.ask(\":WAV:XINC?\"))\n",
    "        x_origin = float(self.ask(\":WAV:XOR?\"))\n",
    "        x_reference = float(self.ask(\":WAV:XREF?\"))\n",
    "\n",
    "        # Get the number of points from the oscilloscope\n",
    "        num_points = int(self.ask(\":WAV:POIN?\"))\n",
    "\n",
    "        # Generate the time (X-axis) data array\n",
    "        x_data = np.arange(num_points) * x_increment + x_origin - x_reference * x_increment\n",
    "        return x_data\n",
    "\n",
    "    def fetch_y_data(self, channel=1):\n",
    "        \"\"\"\n",
    "        Fetch Y-axis data (voltage data) from the oscilloscope for a specified channel.\n",
    "\n",
    "        :param channel: The channel number to fetch data from (default is 1).\n",
    "        :return: Numpy array of Y-axis data (voltage points).\n",
    "        \"\"\"\n",
    "        # Set the channel to read from\n",
    "        self.write(f\":WAV:SOUR CHAN{channel}\")\n",
    "\n",
    "        # Get Y data scaling parameters\n",
    "        y_increment = float(self.ask(\":WAV:YINC?\"))\n",
    "        y_origin = float(self.ask(\":WAV:YOR?\"))\n",
    "        y_reference = float(self.ask(\":WAV:YREF?\"))\n",
    "\n",
    "        # Get the number of points from the oscilloscope\n",
    "        num_points = int(self.ask(\":WAV:POIN?\"))\n",
    "\n",
    "        # Request the waveform data\n",
    "        self.write(\":WAV:DATA?\")\n",
    "        raw_data = self.read_raw()  # Read raw data\n",
    "\n",
    "        # Process the raw data\n",
    "        header_size = 2  # Standard header size for 16-bit word data\n",
    "        data_size = len(raw_data) - header_size - 1\n",
    "        if data_size != num_points * 2:  # 16-bit data means 2 bytes per point\n",
    "            raise ValueError(f\"Mismatch in data length: expected {num_points * 2}, got {data_size}\")\n",
    "        \n",
    "        # Convert raw data to a numpy array of 16-bit unsigned integers\n",
    "        y_data = np.frombuffer(raw_data[header_size:-1], dtype=np.int16)\n",
    "        # y_data = np.frombuffer(raw_data, dtype=np.int16, header_size=2)\n",
    "\n",
    "        # Scale the data to get the correct voltage values\n",
    "        y_data = (y_data - y_reference) * y_increment + y_origin\n",
    "        return y_data\n",
    "\n",
    "# Example usage:\n",
    "# osc = Oscilloscope(vendor_id=0x1234, product_id=0x5678)\n",
    "# x_data = osc.fetch_x_data()\n",
    "# y_data = osc.fetch_y_data(channel=1)\n",
    "# osc.close()\n"
   ]
  },
  {
   "cell_type": "code",
   "execution_count": 8,
   "metadata": {},
   "outputs": [],
   "source": [
    "from types import MethodType\n",
    "from multiprocessing import Queue, Process, Event, Pipe\n",
    "\n",
    "\n",
    "class OscilloscopeProcessManager(Process):\n",
    "    def __init__(self) -> None:\n",
    "        super().__init__()\n",
    "        self.daemon = True\n",
    "        self.task_queue = Queue()\n",
    "        self.data_queue = Queue()\n",
    "\n",
    "        self.parent_pipe, self.child_pipe = Pipe()\n",
    "\n",
    "        self.pause_event = Event()\n",
    "        self.pause_event.set()\n",
    "        self.stop_event  = Event()\n",
    "\n",
    "        self.oscilloscope=None\n",
    "    \n",
    "    def __getattr__(self, name: str) -> Any:\n",
    "        self.parent_pipe.send(name)\n",
    "        \n",
    "        while not self.stop_event.is_set():\n",
    "            if self.parent_pipe.poll():\n",
    "                return self.parent_pipe.recv()\n",
    "            time.sleep(.01)\n",
    "        \n",
    "        raise BrokenPipeError('Process is not running, attributes cannot be accesed!')\n",
    "    \n",
    "    def run(self):\n",
    "        self.oscilloscope=Oscilloscope()\n",
    "        while not self.stop_event.is_set():\n",
    "            # Poll pipe to send __getattr__ values back\n",
    "            if self.child_pipe.poll():\n",
    "                attr_name=self.child_pipe.recv()\n",
    "                if hasattr(self.oscilloscope, attr_name):\n",
    "                    # Send the attribute value back to the parent process\n",
    "                    attr=getattr(self.oscilloscope, attr_name)\n",
    "                    if type(attr) == MethodType:\n",
    "                        self.child_pipe.send(attr())\n",
    "                    else:\n",
    "                        self.child_pipe.send(attr)\n",
    "                else:\n",
    "                    self.child_pipe.send(None)\n",
    "            # Perform misc task - like waiting\n",
    "            elif not self.task_queue.empty():\n",
    "                task = self.task_queue.get()\n",
    "                task()\n",
    "            # Perform data acquisition and put it on data_queue\n",
    "            elif not self.pause_event.is_set() \\\n",
    "                    and self.oscilloscope.triggered:\n",
    "                y=self.oscilloscope.fetch_y_data()\n",
    "                self.data_queue.put(y)\n",
    "                del y\n",
    "            \n",
    "            time.sleep(.01)\n",
    "        self.oscilloscope.close()\n",
    "    \n",
    "    def pause(self):\n",
    "        self.pause_event.set()\n",
    "    \n",
    "    def play(self):\n",
    "        self.pause_event.clear()\n",
    "\n",
    "    def stop(self):\n",
    "        self.stop_event.set()\n",
    "        self.join(timeout=2)"
   ]
  },
  {
   "cell_type": "code",
   "execution_count": 9,
   "metadata": {},
   "outputs": [],
   "source": [
    "scope_manager=OscilloscopeProcessManager()\n",
    "scope_manager.start()"
   ]
  },
  {
   "cell_type": "code",
   "execution_count": 10,
   "metadata": {},
   "outputs": [],
   "source": [
    "scope_manager.pause()"
   ]
  },
  {
   "cell_type": "code",
   "execution_count": 11,
   "metadata": {},
   "outputs": [],
   "source": [
    "scope_manager.play()"
   ]
  },
  {
   "cell_type": "code",
   "execution_count": 12,
   "metadata": {},
   "outputs": [
    {
     "data": {
      "text/plain": [
       "'Agilent Technologies,MSO9404A,MY50290118,04.20.0001'"
      ]
     },
     "execution_count": 12,
     "metadata": {},
     "output_type": "execute_result"
    }
   ],
   "source": [
    "scope_manager.instrument_name"
   ]
  },
  {
   "cell_type": "code",
   "execution_count": 13,
   "metadata": {},
   "outputs": [
    {
     "data": {
      "image/png": "[encoded data removed]",
      "text/plain": [
       "<Figure size 640x480 with 1 Axes>"
      ]
     },
     "metadata": {},
     "output_type": "display_data"
    }
   ],
   "source": [
    "from IPython.display import clear_output\n",
    "\n",
    "x=scope_manager.fetch_x_data\n",
    "mid = len(x)//2\n",
    "\n",
    "i = 0\n",
    "\n",
    "while True:\n",
    "    clear_output(wait=True)\n",
    "    \n",
    "    y=scope_manager.data_queue.get()\n",
    "\n",
    "    plt.xticks(rotation=45)\n",
    "\n",
    "    plot(x[mid:mid+150], y[mid:mid+150], lw=1)\n",
    "    plt.show()\n",
    "\n",
    "    i += 1\n",
    "    if i == 10:\n",
    "        break"
   ]
  },
  {
   "cell_type": "code",
   "execution_count": 14,
   "metadata": {},
   "outputs": [
    {
     "data": {
      "text/plain": [
       "0"
      ]
     },
     "execution_count": 14,
     "metadata": {},
     "output_type": "execute_result"
    }
   ],
   "source": [
    "scope_manager.data_queue.qsize()"
   ]
  },
  {
   "cell_type": "code",
   "execution_count": 15,
   "metadata": {},
   "outputs": [],
   "source": [
    "scope_manager.stop()"
   ]
  }
 ],
 "metadata": {
  "kernelspec": {
   "display_name": "Python 3",
   "language": "python",
   "name": "python3"
  },
  "language_info": {
   "codemirror_mode": {
    "name": "ipython",
    "version": 3
   },
   "file_extension": ".py",
   "mimetype": "text/x-python",
   "name": "python",
   "nbconvert_exporter": "python",
   "pygments_lexer": "ipython3",
   "version": "3.11.9"
  }
 },
 "nbformat": 4,
 "nbformat_minor": 2
}
