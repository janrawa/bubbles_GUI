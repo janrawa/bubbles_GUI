{
 "cells": [
  {
   "cell_type": "code",
   "execution_count": 2,
   "metadata": {},
   "outputs": [],
   "source": [
    "from typing import Any\n",
    "import usbtmc\n",
    "import numpy as np\n",
    "import time\n",
    "\n",
    "class Oscilloscope:\n",
    "    def __init__(self, vendor_id, product_id, timeout=2):\n",
    "        \"\"\"\n",
    "        Initialize the oscilloscope instrument.\n",
    "\n",
    "        :param vendor_id: The vendor ID of the oscilloscope.\n",
    "        :param product_id: The product ID of the oscilloscope.\n",
    "        :param timeout: Communication timeout in seconds.\n",
    "        \"\"\"\n",
    "        self.state=False\n",
    "    def __enter__(self):\n",
    "        return self\n",
    "    \n",
    "    def __exit__(self, exc_type, exc_value, traceback):\n",
    "        pass\n",
    "        # super().__exit__(exc_type, exc_value, traceback)\n",
    "    \n",
    "    def __getattr__(self, name: str) -> Any:\n",
    "        # specific procedures to do before returning variable\n",
    "        return name\n",
    "    \n",
    "\n",
    "    def fetch_x_data(self):\n",
    "        \"\"\"\n",
    "        Fetch X-axis data (time data) from the oscilloscope.\n",
    "\n",
    "        :return: Numpy array of X-axis data (time points).\n",
    "        \"\"\"\n",
    "        return 'x_data'\n",
    "\n",
    "    def fetch_y_data(self, channel=1):\n",
    "        \"\"\"\n",
    "        Fetch Y-axis data (voltage data) from the oscilloscope for a specified channel.\n",
    "\n",
    "        :param channel: The channel number to fetch data from (default is 1).\n",
    "        :return: Numpy array of Y-axis data (voltage points).\n",
    "        \"\"\"\n",
    "        return 'y_data'\n",
    "\n",
    "    def triggered(self):\n",
    "        return self.state\n",
    "\n",
    "# Example usage:\n",
    "# osc = Oscilloscope(vendor_id=0x1234, product_id=0x5678)\n",
    "# x_data = osc.fetch_x_data()\n",
    "# y_data = osc.fetch_y_data(channel=1)\n",
    "# osc.close()\n"
   ]
  },
  {
   "cell_type": "code",
   "execution_count": 36,
   "metadata": {},
   "outputs": [],
   "source": [
    "from multiprocess import Queue, Process, Event\n",
    "\n",
    "\n",
    "class OscilloscopeProcessManager(Process):\n",
    "    def __init__(self, vendor_id=0x0957, product_id=0x900d) -> None:\n",
    "        super().__init__()\n",
    "        self.task_queue = Queue()\n",
    "        self.data_queue = Queue()\n",
    "\n",
    "        # TODO: Create a pipe for __getattr__ method passthrough\n",
    "        self.parent_connection, self.child_connection \n",
    "\n",
    "        self.vendor_id  = vendor_id\n",
    "        self.product_id = product_id\n",
    "\n",
    "        self.pause_event = Event()\n",
    "        self.pause_event.set()\n",
    "        self.stop_event  = Event()\n",
    "\n",
    "        self.oscilloscope=None\n",
    "    \n",
    "    def __getattr__(self, name: str) -> Any:\n",
    "        return getattr(self.oscilloscope,name)\n",
    "    \n",
    "    def get_state(self):\n",
    "        self.task_queue.put(lambda:self.oscilloscope.state)\n",
    "\n",
    "    def run(self):\n",
    "        self.oscilloscope=Oscilloscope(self.vendor_id, self.product_id)\n",
    "        while not self.stop_event.is_set():\n",
    "            if not self.task_queue.empty():\n",
    "                task = self.task_queue.get()\n",
    "                task()\n",
    "            else:\n",
    "                if not self.pause_event.is_set():\n",
    "                    if self.oscilloscope.triggered():\n",
    "                        y=self.oscilloscope.fetch_y_data()\n",
    "                        self.data_queue.put(y)\n",
    "                        del y\n",
    "                else:\n",
    "                    self.task_queue.put(lambda:time.sleep(1.5))\n",
    "    def pause(self):\n",
    "        self.pause_event.set()\n",
    "\n",
    "    def stop(self):\n",
    "        self.stop_event.set()"
   ]
  },
  {
   "cell_type": "code",
   "execution_count": 37,
   "metadata": {},
   "outputs": [
    {
     "name": "stdout",
     "output_type": "stream",
     "text": [
      "None\n",
      "None\n",
      "None\n",
      "None\n",
      "None\n",
      "None\n",
      "None\n",
      "None\n"
     ]
    }
   ],
   "source": [
    "p=OscilloscopeProcessManager()\n",
    "p.start()"
   ]
  },
  {
   "cell_type": "code",
   "execution_count": 42,
   "metadata": {},
   "outputs": [
    {
     "data": {
      "text/plain": [
       "NoneType"
      ]
     },
     "execution_count": 42,
     "metadata": {},
     "output_type": "execute_result"
    }
   ],
   "source": [
    "type(p.get_state())"
   ]
  },
  {
   "cell_type": "code",
   "execution_count": 43,
   "metadata": {},
   "outputs": [],
   "source": [
    "p.stop()"
   ]
  },
  {
   "cell_type": "code",
   "execution_count": 12,
   "metadata": {},
   "outputs": [
    {
     "data": {
      "text/plain": [
       "function"
      ]
     },
     "execution_count": 12,
     "metadata": {},
     "output_type": "execute_result"
    }
   ],
   "source": [
    "type(lambda:time.sleep(10))"
   ]
  }
 ],
 "metadata": {
  "kernelspec": {
   "display_name": "Python 3",
   "language": "python",
   "name": "python3"
  },
  "language_info": {
   "codemirror_mode": {
    "name": "ipython",
    "version": 3
   },
   "file_extension": ".py",
   "mimetype": "text/x-python",
   "name": "python",
   "nbconvert_exporter": "python",
   "pygments_lexer": "ipython3",
   "version": "3.11.9"
  }
 },
 "nbformat": 4,
 "nbformat_minor": 2
}
